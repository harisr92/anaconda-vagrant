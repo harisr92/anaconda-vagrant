{
 "cells": [
  {
   "cell_type": "code",
   "execution_count": 1,
   "id": "e91d6154",
   "metadata": {},
   "outputs": [
    {
     "name": "stdout",
     "output_type": "stream",
     "text": [
      "Hello world\n"
     ]
    }
   ],
   "source": [
    "print('Hello world')"
   ]
  },
  {
   "cell_type": "code",
   "execution_count": 3,
   "id": "f7b94e94",
   "metadata": {},
   "outputs": [],
   "source": [
    "cities = ['Kerala', 'Tamil nadu', 1]"
   ]
  },
  {
   "cell_type": "code",
   "execution_count": 5,
   "id": "dd2d5ea0",
   "metadata": {},
   "outputs": [
    {
     "data": {
      "text/plain": [
       "['Kerala', 'Tamil nadu', 1]"
      ]
     },
     "execution_count": 5,
     "metadata": {},
     "output_type": "execute_result"
    }
   ],
   "source": [
    "cities"
   ]
  },
  {
   "cell_type": "code",
   "execution_count": 10,
   "id": "ea0bd980",
   "metadata": {},
   "outputs": [],
   "source": [
    "cities.append(\"Maharashtra\")"
   ]
  },
  {
   "cell_type": "code",
   "execution_count": 11,
   "id": "b5f6597d",
   "metadata": {},
   "outputs": [
    {
     "name": "stdout",
     "output_type": "stream",
     "text": [
      "['Kerala', 'Tamil nadu', 1, 'Maharashtra', 'Maharashtra', 'Maharashtra', 'Maharashtra', 'Maharashtra']\n"
     ]
    }
   ],
   "source": [
    "print(cities)"
   ]
  },
  {
   "cell_type": "code",
   "execution_count": 12,
   "id": "ee18e27f",
   "metadata": {},
   "outputs": [
    {
     "name": "stdout",
     "output_type": "stream",
     "text": [
      "['Kerala', 'Tamil nadu', 1, 'Maharashtra', 'Maharashtra', 'Maharashtra', 'Maharashtra']\n"
     ]
    }
   ],
   "source": [
    "cities.remove('Maharashtra')\n",
    "print(cities)"
   ]
  },
  {
   "cell_type": "code",
   "execution_count": 14,
   "id": "5b1f9656",
   "metadata": {},
   "outputs": [
    {
     "name": "stdout",
     "output_type": "stream",
     "text": [
      "<built-in method count of list object at 0x7f9fec4ffd40>\n"
     ]
    }
   ],
   "source": [
    "print(cities.count)"
   ]
  },
  {
   "cell_type": "code",
   "execution_count": 15,
   "id": "a8f840a3",
   "metadata": {},
   "outputs": [
    {
     "ename": "SyntaxError",
     "evalue": "invalid syntax (<ipython-input-15-a01db7b0948b>, line 1)",
     "output_type": "error",
     "traceback": [
      "\u001b[0;36m  File \u001b[0;32m\"<ipython-input-15-a01db7b0948b>\"\u001b[0;36m, line \u001b[0;32m1\u001b[0m\n\u001b[0;31m    cities[2..4]\u001b[0m\n\u001b[0m             ^\u001b[0m\n\u001b[0;31mSyntaxError\u001b[0m\u001b[0;31m:\u001b[0m invalid syntax\n"
     ]
    }
   ],
   "source": [
    "cities[2..4]"
   ]
  },
  {
   "cell_type": "code",
   "execution_count": 18,
   "id": "04d5b63b",
   "metadata": {},
   "outputs": [
    {
     "data": {
      "text/plain": [
       "['Tamil nadu', 1, 'Maharashtra']"
      ]
     },
     "execution_count": 18,
     "metadata": {},
     "output_type": "execute_result"
    }
   ],
   "source": [
    "cities[1:4]"
   ]
  },
  {
   "cell_type": "code",
   "execution_count": 19,
   "id": "eafa3051",
   "metadata": {},
   "outputs": [
    {
     "data": {
      "text/plain": [
       "['Tamil nadu', 1, 'Maharashtra', 'Maharashtra', 'Maharashtra', 'Maharashtra']"
      ]
     },
     "execution_count": 19,
     "metadata": {},
     "output_type": "execute_result"
    }
   ],
   "source": [
    "cities[1:]"
   ]
  },
  {
   "cell_type": "code",
   "execution_count": 20,
   "id": "f580fe51",
   "metadata": {},
   "outputs": [
    {
     "data": {
      "text/plain": [
       "['Kerala',\n",
       " 'Tamil nadu',\n",
       " 1,\n",
       " 'Maharashtra',\n",
       " 'Maharashtra',\n",
       " 'Maharashtra',\n",
       " 'Maharashtra']"
      ]
     },
     "execution_count": 20,
     "metadata": {},
     "output_type": "execute_result"
    }
   ],
   "source": [
    "cities[:]"
   ]
  },
  {
   "cell_type": "code",
   "execution_count": 22,
   "id": "72f8255b",
   "metadata": {},
   "outputs": [
    {
     "data": {
      "text/plain": [
       "['Maharashtra', 'Maharashtra']"
      ]
     },
     "execution_count": 22,
     "metadata": {},
     "output_type": "execute_result"
    }
   ],
   "source": [
    "cities[3:5]"
   ]
  },
  {
   "cell_type": "code",
   "execution_count": 23,
   "id": "63338216",
   "metadata": {},
   "outputs": [
    {
     "data": {
      "text/plain": [
       "[]"
      ]
     },
     "execution_count": 23,
     "metadata": {},
     "output_type": "execute_result"
    }
   ],
   "source": [
    "cities[3:3]"
   ]
  },
  {
   "cell_type": "code",
   "execution_count": 24,
   "id": "676e0a1c",
   "metadata": {},
   "outputs": [
    {
     "data": {
      "text/plain": [
       "['Maharashtra']"
      ]
     },
     "execution_count": 24,
     "metadata": {},
     "output_type": "execute_result"
    }
   ],
   "source": [
    "cities[3:4]"
   ]
  },
  {
   "cell_type": "code",
   "execution_count": 27,
   "id": "c4f418bc",
   "metadata": {},
   "outputs": [
    {
     "data": {
      "text/plain": [
       "['Maharashtra', 'Maharashtra', 'Kerala']"
      ]
     },
     "execution_count": 27,
     "metadata": {},
     "output_type": "execute_result"
    }
   ],
   "source": [
    "cities[::-3]"
   ]
  },
  {
   "cell_type": "code",
   "execution_count": 28,
   "id": "9f82df3a",
   "metadata": {},
   "outputs": [
    {
     "data": {
      "text/plain": [
       "['Kerala', 'Tamil nadu', 1, 'Maharashtra']"
      ]
     },
     "execution_count": 28,
     "metadata": {},
     "output_type": "execute_result"
    }
   ],
   "source": [
    "cities[:-3]"
   ]
  },
  {
   "cell_type": "code",
   "execution_count": 29,
   "id": "0c32b8cf",
   "metadata": {},
   "outputs": [],
   "source": [
    "t = (1, 2, 3)"
   ]
  },
  {
   "cell_type": "code",
   "execution_count": 30,
   "id": "b108f618",
   "metadata": {},
   "outputs": [
    {
     "name": "stdout",
     "output_type": "stream",
     "text": [
      "<class 'tuple'>\n"
     ]
    }
   ],
   "source": [
    "print(type(t))"
   ]
  },
  {
   "cell_type": "code",
   "execution_count": 33,
   "id": "d9474bc3",
   "metadata": {},
   "outputs": [],
   "source": [
    "t = (4,5,6)"
   ]
  },
  {
   "cell_type": "code",
   "execution_count": 34,
   "id": "7a79f0b7",
   "metadata": {},
   "outputs": [
    {
     "data": {
      "text/plain": [
       "(4, 5, 6)"
      ]
     },
     "execution_count": 34,
     "metadata": {},
     "output_type": "execute_result"
    }
   ],
   "source": [
    "t"
   ]
  },
  {
   "cell_type": "code",
   "execution_count": 5,
   "id": "65dcc965",
   "metadata": {},
   "outputs": [
    {
     "data": {
      "text/plain": [
       "['test', 'test']"
      ]
     },
     "execution_count": 5,
     "metadata": {},
     "output_type": "execute_result"
    }
   ],
   "source": [
    "\"test\\\\test\".split(\"\\\\\")"
   ]
  },
  {
   "cell_type": "code",
   "execution_count": 6,
   "id": "f51680f0",
   "metadata": {},
   "outputs": [],
   "source": [
    "city = 'Bangalore'"
   ]
  },
  {
   "cell_type": "code",
   "execution_count": 7,
   "id": "97a42300",
   "metadata": {},
   "outputs": [
    {
     "ename": "TypeError",
     "evalue": "string indices must be integers",
     "output_type": "error",
     "traceback": [
      "\u001b[0;31m---------------------------------------------------------------------------\u001b[0m",
      "\u001b[0;31mTypeError\u001b[0m                                 Traceback (most recent call last)",
      "\u001b[0;32m<ipython-input-7-f2ee82668ccc>\u001b[0m in \u001b[0;36m<module>\u001b[0;34m\u001b[0m\n\u001b[0;32m----> 1\u001b[0;31m \u001b[0mcity\u001b[0m\u001b[0;34m[\u001b[0m\u001b[0;34m'alor'\u001b[0m\u001b[0;34m]\u001b[0m\u001b[0;34m\u001b[0m\u001b[0;34m\u001b[0m\u001b[0m\n\u001b[0m",
      "\u001b[0;31mTypeError\u001b[0m: string indices must be integers"
     ]
    }
   ],
   "source": [
    "city['alor']"
   ]
  },
  {
   "cell_type": "code",
   "execution_count": 8,
   "id": "0ff71e85",
   "metadata": {},
   "outputs": [
    {
     "data": {
      "text/plain": [
       "'alor'"
      ]
     },
     "execution_count": 8,
     "metadata": {},
     "output_type": "execute_result"
    }
   ],
   "source": [
    "city[4:8]"
   ]
  },
  {
   "cell_type": "code",
   "execution_count": 9,
   "id": "d7569503",
   "metadata": {},
   "outputs": [
    {
     "data": {
      "text/plain": [
       "4"
      ]
     },
     "execution_count": 9,
     "metadata": {},
     "output_type": "execute_result"
    }
   ],
   "source": [
    "city.find('alor')"
   ]
  },
  {
   "cell_type": "code",
   "execution_count": 10,
   "id": "e8127647",
   "metadata": {},
   "outputs": [
    {
     "data": {
      "text/plain": [
       "'Bangalore'"
      ]
     },
     "execution_count": 10,
     "metadata": {},
     "output_type": "execute_result"
    }
   ],
   "source": [
    "city"
   ]
  },
  {
   "cell_type": "markdown",
   "id": "2065a59a",
   "metadata": {},
   "source": [
    "# Disctionary"
   ]
  },
  {
   "cell_type": "code",
   "execution_count": 12,
   "id": "9f1b226e",
   "metadata": {},
   "outputs": [],
   "source": [
    "d = { 'a': 'B' }"
   ]
  },
  {
   "cell_type": "code",
   "execution_count": 13,
   "id": "82fb03fd",
   "metadata": {},
   "outputs": [
    {
     "data": {
      "text/plain": [
       "{'a': 'B'}"
      ]
     },
     "execution_count": 13,
     "metadata": {},
     "output_type": "execute_result"
    }
   ],
   "source": [
    "d"
   ]
  },
  {
   "cell_type": "code",
   "execution_count": 15,
   "id": "e0066335",
   "metadata": {},
   "outputs": [],
   "source": [
    "d.setdefault('Hello')"
   ]
  },
  {
   "cell_type": "code",
   "execution_count": 16,
   "id": "0d758435",
   "metadata": {},
   "outputs": [
    {
     "data": {
      "text/plain": [
       "{'a': 'B', 'Hello': None}"
      ]
     },
     "execution_count": 16,
     "metadata": {},
     "output_type": "execute_result"
    }
   ],
   "source": [
    "d"
   ]
  },
  {
   "cell_type": "code",
   "execution_count": 19,
   "id": "41743061",
   "metadata": {},
   "outputs": [],
   "source": [
    "d.setdefault('Hello', 'test')"
   ]
  },
  {
   "cell_type": "code",
   "execution_count": 20,
   "id": "ba89c83d",
   "metadata": {},
   "outputs": [
    {
     "data": {
      "text/plain": [
       "{'a': 'B', 'Hello': None}"
      ]
     },
     "execution_count": 20,
     "metadata": {},
     "output_type": "execute_result"
    }
   ],
   "source": [
    "d"
   ]
  },
  {
   "cell_type": "code",
   "execution_count": 21,
   "id": "686e189c",
   "metadata": {
    "scrolled": true
   },
   "outputs": [
    {
     "data": {
      "text/plain": [
       "dict_keys(['a', 'Hello'])"
      ]
     },
     "execution_count": 21,
     "metadata": {},
     "output_type": "execute_result"
    }
   ],
   "source": [
    "d.keys()"
   ]
  },
  {
   "cell_type": "code",
   "execution_count": 23,
   "id": "79235546",
   "metadata": {},
   "outputs": [
    {
     "data": {
      "text/plain": [
       "dict_values(['B', None])"
      ]
     },
     "execution_count": 23,
     "metadata": {},
     "output_type": "execute_result"
    }
   ],
   "source": [
    "d.values()"
   ]
  },
  {
   "cell_type": "code",
   "execution_count": 24,
   "id": "eafe59e5",
   "metadata": {},
   "outputs": [],
   "source": [
    "d1 = {'A':'Alpha', 'B':'Beta'}\n",
    "d2 = {'A':'Gamma'}\n"
   ]
  },
  {
   "cell_type": "code",
   "execution_count": 25,
   "id": "382de816",
   "metadata": {},
   "outputs": [],
   "source": [
    "d1.update(d2)"
   ]
  },
  {
   "cell_type": "code",
   "execution_count": 26,
   "id": "a5d1551b",
   "metadata": {},
   "outputs": [
    {
     "data": {
      "text/plain": [
       "{'A': 'Gamma', 'B': 'Beta'}"
      ]
     },
     "execution_count": 26,
     "metadata": {},
     "output_type": "execute_result"
    }
   ],
   "source": [
    "d1"
   ]
  },
  {
   "cell_type": "code",
   "execution_count": 28,
   "id": "0813636f",
   "metadata": {},
   "outputs": [],
   "source": [
    "d1 = {'A':{'B':'Beta'}}"
   ]
  },
  {
   "cell_type": "code",
   "execution_count": 29,
   "id": "16f140a2",
   "metadata": {},
   "outputs": [
    {
     "data": {
      "text/plain": [
       "{'A': {'B': 'Beta'}}"
      ]
     },
     "execution_count": 29,
     "metadata": {},
     "output_type": "execute_result"
    }
   ],
   "source": [
    "d1"
   ]
  },
  {
   "cell_type": "code",
   "execution_count": 30,
   "id": "3e4217c4",
   "metadata": {},
   "outputs": [],
   "source": [
    "details = { 101: ['Aniket', 'K', 20]}"
   ]
  },
  {
   "cell_type": "code",
   "execution_count": 31,
   "id": "ec891282",
   "metadata": {},
   "outputs": [
    {
     "data": {
      "text/plain": [
       "{101: ['Aniket', 'K', 20]}"
      ]
     },
     "execution_count": 31,
     "metadata": {},
     "output_type": "execute_result"
    }
   ],
   "source": [
    "details"
   ]
  },
  {
   "cell_type": "code",
   "execution_count": 32,
   "id": "f1b536e5",
   "metadata": {},
   "outputs": [
    {
     "data": {
      "text/plain": [
       "['Aniket', 'K', 20]"
      ]
     },
     "execution_count": 32,
     "metadata": {},
     "output_type": "execute_result"
    }
   ],
   "source": [
    "details[101]"
   ]
  },
  {
   "cell_type": "code",
   "execution_count": 35,
   "id": "01f0c71f",
   "metadata": {},
   "outputs": [],
   "source": [
    "details[102] = ['Saranya', 'A', 25]"
   ]
  },
  {
   "cell_type": "code",
   "execution_count": 36,
   "id": "50feef95",
   "metadata": {},
   "outputs": [
    {
     "data": {
      "text/plain": [
       "{101: ['Aniket', 'K', 20], 102: ['Saranya', 'A', 25]}"
      ]
     },
     "execution_count": 36,
     "metadata": {},
     "output_type": "execute_result"
    }
   ],
   "source": [
    "details"
   ]
  },
  {
   "cell_type": "code",
   "execution_count": 37,
   "id": "456a12c9",
   "metadata": {},
   "outputs": [],
   "source": [
    "details[103] = ['Rahul', 'A', 30]"
   ]
  },
  {
   "cell_type": "code",
   "execution_count": 38,
   "id": "636b23a3",
   "metadata": {},
   "outputs": [
    {
     "data": {
      "text/plain": [
       "{101: ['Aniket', 'K', 20], 102: ['Saranya', 'A', 25], 103: ['Rahul', 'A', 30]}"
      ]
     },
     "execution_count": 38,
     "metadata": {},
     "output_type": "execute_result"
    }
   ],
   "source": [
    "details"
   ]
  },
  {
   "cell_type": "code",
   "execution_count": 39,
   "id": "23a3351b",
   "metadata": {},
   "outputs": [
    {
     "data": {
      "text/plain": [
       "25"
      ]
     },
     "execution_count": 39,
     "metadata": {},
     "output_type": "execute_result"
    }
   ],
   "source": [
    "details[102][2]"
   ]
  },
  {
   "cell_type": "code",
   "execution_count": 40,
   "id": "8f7eeb04",
   "metadata": {},
   "outputs": [],
   "source": [
    "details[102] = {'FirstName': 'Saranya', 'LastName': 'K', 'Age': 25}"
   ]
  },
  {
   "cell_type": "code",
   "execution_count": 41,
   "id": "82dffdd0",
   "metadata": {},
   "outputs": [
    {
     "data": {
      "text/plain": [
       "25"
      ]
     },
     "execution_count": 41,
     "metadata": {},
     "output_type": "execute_result"
    }
   ],
   "source": [
    "details[102]['Age']"
   ]
  },
  {
   "cell_type": "markdown",
   "id": "50fd7550",
   "metadata": {},
   "source": [
    "# Set"
   ]
  },
  {
   "cell_type": "code",
   "execution_count": 1,
   "id": "c5e1ff25",
   "metadata": {},
   "outputs": [],
   "source": [
    "a = {1,2,3,4}"
   ]
  },
  {
   "cell_type": "code",
   "execution_count": 2,
   "id": "b38c33fd",
   "metadata": {},
   "outputs": [
    {
     "data": {
      "text/plain": [
       "{3, 4, 5, 6}"
      ]
     },
     "execution_count": 2,
     "metadata": {},
     "output_type": "execute_result"
    }
   ],
   "source": [
    "b= {3,4,5,6}\n",
    "b"
   ]
  },
  {
   "cell_type": "code",
   "execution_count": 3,
   "id": "044830ab",
   "metadata": {},
   "outputs": [
    {
     "data": {
      "text/plain": [
       "{3, 4}"
      ]
     },
     "execution_count": 3,
     "metadata": {},
     "output_type": "execute_result"
    }
   ],
   "source": [
    "a & b"
   ]
  },
  {
   "cell_type": "code",
   "execution_count": 4,
   "id": "d5327627",
   "metadata": {},
   "outputs": [
    {
     "data": {
      "text/plain": [
       "{1, 2, 3, 4, 5, 6}"
      ]
     },
     "execution_count": 4,
     "metadata": {},
     "output_type": "execute_result"
    }
   ],
   "source": [
    "a | b"
   ]
  },
  {
   "cell_type": "code",
   "execution_count": 5,
   "id": "ade49e89",
   "metadata": {},
   "outputs": [
    {
     "data": {
      "text/plain": [
       "True"
      ]
     },
     "execution_count": 5,
     "metadata": {},
     "output_type": "execute_result"
    }
   ],
   "source": [
    "4 in a"
   ]
  },
  {
   "cell_type": "code",
   "execution_count": 6,
   "id": "9388aff9",
   "metadata": {},
   "outputs": [
    {
     "data": {
      "text/plain": [
       "False"
      ]
     },
     "execution_count": 6,
     "metadata": {},
     "output_type": "execute_result"
    }
   ],
   "source": [
    "10 in a"
   ]
  },
  {
   "cell_type": "code",
   "execution_count": 7,
   "id": "8a0daae2",
   "metadata": {},
   "outputs": [
    {
     "data": {
      "text/plain": [
       "{1, 2, 5, 6}"
      ]
     },
     "execution_count": 7,
     "metadata": {},
     "output_type": "execute_result"
    }
   ],
   "source": [
    "a ^ b"
   ]
  },
  {
   "cell_type": "code",
   "execution_count": 8,
   "id": "96304611",
   "metadata": {},
   "outputs": [
    {
     "data": {
      "text/plain": [
       "{1, 2}"
      ]
     },
     "execution_count": 8,
     "metadata": {},
     "output_type": "execute_result"
    }
   ],
   "source": [
    "a - b"
   ]
  },
  {
   "cell_type": "code",
   "execution_count": 10,
   "id": "0ce2bcb5",
   "metadata": {},
   "outputs": [
    {
     "data": {
      "text/plain": [
       "[1, 2, 3, 4]"
      ]
     },
     "execution_count": 10,
     "metadata": {},
     "output_type": "execute_result"
    }
   ],
   "source": [
    "a = [1,2,3,4]\n",
    "b = [3,4,5,6,7]\n",
    "a"
   ]
  },
  {
   "cell_type": "code",
   "execution_count": 12,
   "id": "2e7576de",
   "metadata": {},
   "outputs": [
    {
     "data": {
      "text/plain": [
       "[1, 2, 3, 4]"
      ]
     },
     "execution_count": 12,
     "metadata": {},
     "output_type": "execute_result"
    }
   ],
   "source": [
    "a"
   ]
  },
  {
   "cell_type": "code",
   "execution_count": 13,
   "id": "bead79a1",
   "metadata": {},
   "outputs": [
    {
     "data": {
      "text/plain": [
       "{'A': 'Alpha', 'B': 'Zeta', 'C': 'Gamma'}"
      ]
     },
     "execution_count": 13,
     "metadata": {},
     "output_type": "execute_result"
    }
   ],
   "source": [
    "d1 = {'A': 'Alpha', 'B':'Zeta', 'C': 'Gamma'}\n",
    "d1"
   ]
  },
  {
   "cell_type": "code",
   "execution_count": 25,
   "id": "0e9368ef",
   "metadata": {},
   "outputs": [
    {
     "data": {
      "text/plain": [
       "('B', 'Zeta')"
      ]
     },
     "execution_count": 25,
     "metadata": {},
     "output_type": "execute_result"
    }
   ],
   "source": [
    "list(d1.items())"
   ]
  },
  {
   "cell_type": "code",
   "execution_count": 26,
   "id": "9a42f48d",
   "metadata": {},
   "outputs": [
    {
     "data": {
      "text/plain": [
       "'Zeta'"
      ]
     },
     "execution_count": 26,
     "metadata": {},
     "output_type": "execute_result"
    }
   ],
   "source": [
    "d1.get('B')"
   ]
  },
  {
   "cell_type": "code",
   "execution_count": 27,
   "id": "d47c4cd1",
   "metadata": {},
   "outputs": [
    {
     "data": {
      "text/plain": [
       "['A', 'B', 'C']"
      ]
     },
     "execution_count": 27,
     "metadata": {},
     "output_type": "execute_result"
    }
   ],
   "source": [
    "list(d1.keys())"
   ]
  },
  {
   "cell_type": "code",
   "execution_count": 28,
   "id": "11596091",
   "metadata": {},
   "outputs": [
    {
     "data": {
      "text/plain": [
       "['Alpha', 'Zeta', 'Gamma']"
      ]
     },
     "execution_count": 28,
     "metadata": {},
     "output_type": "execute_result"
    }
   ],
   "source": [
    "list(d1.values())"
   ]
  },
  {
   "cell_type": "code",
   "execution_count": 30,
   "id": "c3a3dbbf",
   "metadata": {},
   "outputs": [
    {
     "data": {
      "text/plain": [
       "1"
      ]
     },
     "execution_count": 30,
     "metadata": {},
     "output_type": "execute_result"
    }
   ],
   "source": [
    "list(d1.values()).index('Zeta')"
   ]
  },
  {
   "cell_type": "code",
   "execution_count": 31,
   "id": "5470e40e",
   "metadata": {},
   "outputs": [
    {
     "data": {
      "text/plain": [
       "{'Z': None, 'e': None, 't': None, 'a': None}"
      ]
     },
     "execution_count": 31,
     "metadata": {},
     "output_type": "execute_result"
    }
   ],
   "source": [
    "d1.fromkeys('Zeta')"
   ]
  },
  {
   "cell_type": "code",
   "execution_count": 32,
   "id": "568ac471",
   "metadata": {},
   "outputs": [
    {
     "data": {
      "text/plain": [
       "'B'"
      ]
     },
     "execution_count": 32,
     "metadata": {},
     "output_type": "execute_result"
    }
   ],
   "source": [
    "list(d1.keys())[list(d1.values()).index('Zeta')]"
   ]
  },
  {
   "cell_type": "code",
   "execution_count": 33,
   "id": "ff9ffc3d",
   "metadata": {},
   "outputs": [
    {
     "data": {
      "text/plain": [
       "frozenset({1, 2})"
      ]
     },
     "execution_count": 33,
     "metadata": {},
     "output_type": "execute_result"
    }
   ],
   "source": [
    "frozenset({1,2})"
   ]
  },
  {
   "cell_type": "code",
   "execution_count": 3,
   "id": "0f62cbc1-2dd2-4c4e-9c33-45a48e6ba051",
   "metadata": {},
   "outputs": [],
   "source": [
    "d1 = {'A':'Alhpa'}"
   ]
  },
  {
   "cell_type": "code",
   "execution_count": 4,
   "id": "fcbf68ac-f7ff-4f25-885b-ab803832f056",
   "metadata": {},
   "outputs": [
    {
     "data": {
      "text/plain": [
       "{'A': 'Alhpa'}"
      ]
     },
     "execution_count": 4,
     "metadata": {},
     "output_type": "execute_result"
    }
   ],
   "source": [
    "d1"
   ]
  },
  {
   "cell_type": "code",
   "execution_count": 6,
   "id": "b2f81347-6a72-478e-a794-bf83c82c9665",
   "metadata": {},
   "outputs": [],
   "source": [
    "keys = list('ABCDEF')\n",
    "values = list(range(1, 4))"
   ]
  },
  {
   "cell_type": "code",
   "execution_count": 7,
   "id": "a627e77e-e591-4548-ac0a-e4c1a08c0046",
   "metadata": {},
   "outputs": [
    {
     "data": {
      "text/plain": [
       "{'A': 1, 'B': 2, 'C': 3}"
      ]
     },
     "execution_count": 7,
     "metadata": {},
     "output_type": "execute_result"
    }
   ],
   "source": [
    "dict(zip(keys,values))"
   ]
  }
 ],
 "metadata": {
  "kernelspec": {
   "display_name": "Python 3",
   "language": "python",
   "name": "python3"
  },
  "language_info": {
   "codemirror_mode": {
    "name": "ipython",
    "version": 3
   },
   "file_extension": ".py",
   "mimetype": "text/x-python",
   "name": "python",
   "nbconvert_exporter": "python",
   "pygments_lexer": "ipython3",
   "version": "3.8.8"
  }
 },
 "nbformat": 4,
 "nbformat_minor": 5
}
