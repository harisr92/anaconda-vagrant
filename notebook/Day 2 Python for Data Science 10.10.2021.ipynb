{
 "cells": [
  {
   "cell_type": "code",
   "execution_count": 1,
   "id": "fb033603-ce37-49e2-b35e-fc193907ae00",
   "metadata": {},
   "outputs": [
    {
     "name": "stdin",
     "output_type": "stream",
     "text": [
      "Please enter your name hari\n"
     ]
    },
    {
     "name": "stdout",
     "output_type": "stream",
     "text": [
      "Hello hari\n"
     ]
    }
   ],
   "source": [
    "name = input(\"Please enter your name\")\n",
    "print(\"Hello\", name)"
   ]
  },
  {
   "cell_type": "code",
   "execution_count": 17,
   "id": "b78d5b9d-6ba9-4dd5-bf42-99d4d8f41011",
   "metadata": {},
   "outputs": [
    {
     "name": "stdin",
     "output_type": "stream",
     "text": [
      "Please enter your age 20\n"
     ]
    },
    {
     "name": "stdout",
     "output_type": "stream",
     "text": [
      "Adult\n"
     ]
    }
   ],
   "source": [
    "age = input(\"Please enter your age\")\n",
    "int(age) > 18 and print('Adult')"
   ]
  },
  {
   "cell_type": "markdown",
   "id": "3035359e-d9bc-4e40-a88b-58171695a111",
   "metadata": {},
   "source": [
    "# For Loop"
   ]
  },
  {
   "cell_type": "code",
   "execution_count": 11,
   "id": "684a6f8e-6901-4ef2-beea-00a21e531195",
   "metadata": {},
   "outputs": [],
   "source": []
  }
 ],
 "metadata": {
  "kernelspec": {
   "display_name": "Python 3",
   "language": "python",
   "name": "python3"
  },
  "language_info": {
   "codemirror_mode": {
    "name": "ipython",
    "version": 3
   },
   "file_extension": ".py",
   "mimetype": "text/x-python",
   "name": "python",
   "nbconvert_exporter": "python",
   "pygments_lexer": "ipython3",
   "version": "3.8.8"
  }
 },
 "nbformat": 4,
 "nbformat_minor": 5
}
